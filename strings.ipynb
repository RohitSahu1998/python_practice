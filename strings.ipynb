{
 "cells": [
  {
   "cell_type": "markdown",
   "id": "14c2592f",
   "metadata": {},
   "source": [
    "# 1.Write a python program to convert a string to lower case\n"
   ]
  },
  {
   "cell_type": "code",
   "execution_count": 2,
   "id": "a254bf5e",
   "metadata": {},
   "outputs": [
    {
     "name": "stdout",
     "output_type": "stream",
     "text": [
      "python\n"
     ]
    }
   ],
   "source": [
    "a='PYTHON'\n",
    "print(a.lower())   # lower() is a method which is used to convert a string into lowercase"
   ]
  },
  {
   "cell_type": "markdown",
   "id": "ffb830b6",
   "metadata": {},
   "source": [
    "# 2.Write a python program to convert only odd indexed characters to lower case\n"
   ]
  },
  {
   "cell_type": "code",
   "execution_count": 27,
   "id": "073c539d",
   "metadata": {},
   "outputs": [
    {
     "name": "stdout",
     "output_type": "stream",
     "text": [
      "PyThOn\n"
     ]
    }
   ],
   "source": [
    "a='PYTHON'\n",
    "op=''\n",
    "for i in range(len(a)):\n",
    "    if i%2!=0 :\n",
    "        op=op+a[i].lower()\n",
    "    else:\n",
    "        op=op+a[i].upper()\n",
    "print(op)       \n",
    "    \n"
   ]
  },
  {
   "cell_type": "markdown",
   "id": "c5f24a65",
   "metadata": {},
   "source": [
    "# 3.Write a python program to convert only even indexed characters to lower case"
   ]
  },
  {
   "cell_type": "code",
   "execution_count": 28,
   "id": "497d04c9",
   "metadata": {},
   "outputs": [
    {
     "name": "stdout",
     "output_type": "stream",
     "text": [
      "pYtHoN\n"
     ]
    }
   ],
   "source": [
    "a='PYTHON'\n",
    "op=''\n",
    "for i in range(len(a)):\n",
    "    if i%2==0 :\n",
    "        op=op+a[i].lower()\n",
    "    else:\n",
    "        op=op+a[i].upper()\n",
    "print(op)     "
   ]
  },
  {
   "cell_type": "markdown",
   "id": "8ca1387e",
   "metadata": {},
   "source": [
    "# 4. Write a python program to convert only odd indexed characters to upper case"
   ]
  },
  {
   "cell_type": "code",
   "execution_count": 29,
   "id": "942f9af2",
   "metadata": {},
   "outputs": [
    {
     "name": "stdout",
     "output_type": "stream",
     "text": [
      "pYtHoN\n"
     ]
    }
   ],
   "source": [
    "a='python'\n",
    "op=''\n",
    "for i in range(len(a)):\n",
    "    if i%2==0 :\n",
    "        op=op+a[i].lower()\n",
    "    else:\n",
    "        op=op+a[i].upper()\n",
    "print(op)     "
   ]
  },
  {
   "cell_type": "markdown",
   "id": "e45030a4",
   "metadata": {},
   "source": [
    "# 5.Write a python program to convert only even indexed characters to upper case "
   ]
  },
  {
   "cell_type": "code",
   "execution_count": 31,
   "id": "19d8d391",
   "metadata": {},
   "outputs": [
    {
     "name": "stdout",
     "output_type": "stream",
     "text": [
      "PyThOn\n"
     ]
    }
   ],
   "source": [
    "a='python'\n",
    "op=''\n",
    "for i in range(len(a)):\n",
    "    if i%2!=0 :\n",
    "        op=op+a[i].lower()\n",
    "    else:\n",
    "        op=op+a[i].upper()\n",
    "print(op) "
   ]
  },
  {
   "cell_type": "markdown",
   "id": "f042bc2f",
   "metadata": {},
   "source": [
    "# 6. Write a python program where you have different variable which contains your name, gender, age, phone number, father’s name and mother’s name. And by using this variable create a variable named bio-data where you will use all this variable"
   ]
  },
  {
   "cell_type": "code",
   "execution_count": 45,
   "id": "f3983fc8",
   "metadata": {},
   "outputs": [
    {
     "name": "stdout",
     "output_type": "stream",
     "text": [
      "My name is Rohit Sahu, My age is 24, My phone no is 7972383681, My father's name is Ramakant, My mother's name is Saroj\n"
     ]
    }
   ],
   "source": [
    "n='Rohit Sahu'\n",
    "gen='Male'\n",
    "a='24'\n",
    "num='7972383681'\n",
    "fname='Ramakant'\n",
    "mname='Saroj'\n",
    "biodata=[n,gen,a,num,fname,mname]\n",
    "#My name is …., My age is ….,My phone-no is ….,my father’s name is …,and my mother’s name is…\n",
    "print(f'My name is {biodata[0]}, My age is {biodata[2]}, My phone no is {biodata[3]}, My father\\'s name is {biodata[4]}, My mother\\'s name is {biodata[5]}')"
   ]
  },
  {
   "cell_type": "markdown",
   "id": "cb8cbc2b",
   "metadata": {},
   "source": [
    "# 7. Write a python program to count how many times “@” occurred\n"
   ]
  },
  {
   "cell_type": "code",
   "execution_count": 55,
   "id": "19a1e6c5",
   "metadata": {},
   "outputs": [
    {
     "name": "stdout",
     "output_type": "stream",
     "text": [
      "2\n"
     ]
    }
   ],
   "source": [
    "a='S@ndhy@'\n",
    "b=list(a)\n",
    "count=0\n",
    "for i in a:\n",
    "    if i=='@':\n",
    "        count+=1\n",
    "print(count)"
   ]
  },
  {
   "cell_type": "markdown",
   "id": "ea610f95",
   "metadata": {},
   "source": [
    "# 8. Write a python program to get only names from the string"
   ]
  },
  {
   "cell_type": "code",
   "execution_count": 42,
   "id": "d860b0f8",
   "metadata": {},
   "outputs": [
    {
     "name": "stdout",
     "output_type": "stream",
     "text": [
      "Rohitsahu1909,anurag123,sandhya143"
     ]
    }
   ],
   "source": [
    "a='Rohitsahu1909.@gmail.com,anurag123.@gmail.com,sandhya143.@gmail.com'.split('.@gmail.com')\n",
    "for i in a:\n",
    "    print(f'{i}',end='')"
   ]
  },
  {
   "cell_type": "markdown",
   "id": "ecd130eb",
   "metadata": {},
   "source": [
    "# 9. Write a program to remove vowels from the entire alphabets"
   ]
  },
  {
   "cell_type": "code",
   "execution_count": 3,
   "id": "20970a94",
   "metadata": {},
   "outputs": [
    {
     "name": "stdout",
     "output_type": "stream",
     "text": [
      "bcdfghjklmnpqrstvwxyz\n"
     ]
    }
   ],
   "source": [
    "string='abcdefghijklmnopqrstuvwxyz'\n",
    "op=''\n",
    "v=['a','e','i','o','u']\n",
    "for i in range(len(string)):\n",
    "    if string[i] not in v :\n",
    "        op=op+string[i]\n",
    "print(op)    \n"
   ]
  },
  {
   "cell_type": "markdown",
   "id": "5f61eead",
   "metadata": {},
   "source": [
    "# 10. Find all occurrences of a substring in a given string by ignoring the case"
   ]
  },
  {
   "cell_type": "code",
   "execution_count": 16,
   "id": "65a578e7",
   "metadata": {},
   "outputs": [
    {
     "data": {
      "text/plain": [
       "2"
      ]
     },
     "execution_count": 16,
     "metadata": {},
     "output_type": "execute_result"
    }
   ],
   "source": [
    "str1 = 'Welcome to Innomatics. innomatics awesome, isn\\'t it?'.lower()\n",
    "str1.count('innomatics')\n"
   ]
  }
 ],
 "metadata": {
  "kernelspec": {
   "display_name": "Python 3 (ipykernel)",
   "language": "python",
   "name": "python3"
  },
  "language_info": {
   "codemirror_mode": {
    "name": "ipython",
    "version": 3
   },
   "file_extension": ".py",
   "mimetype": "text/x-python",
   "name": "python",
   "nbconvert_exporter": "python",
   "pygments_lexer": "ipython3",
   "version": "3.9.12"
  }
 },
 "nbformat": 4,
 "nbformat_minor": 5
}
